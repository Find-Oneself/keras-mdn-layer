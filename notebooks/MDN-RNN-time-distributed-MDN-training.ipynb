{
 "cells": [
  {
   "cell_type": "markdown",
   "metadata": {},
   "source": [
    "# Writing Kanji with a time distributed MDN-RNN \n",
    "\n",
    "- This notebook is the same as the Kanji MDN-RNN except that it trains on predictions made over the whole sequence length.\n",
    "- The MDN-RNN is also written in Keras' functional API for good measure!\n"
   ]
  },
  {
   "cell_type": "code",
   "execution_count": 1,
   "metadata": {},
   "outputs": [
    {
     "name": "stderr",
     "output_type": "stream",
     "text": [
      "Using TensorFlow backend.\n"
     ]
    }
   ],
   "source": [
    "import keras\n",
    "from context import * # imports the MDN layer \n",
    "import numpy as np\n",
    "import random\n",
    "import matplotlib.pyplot as plt\n",
    "from mpl_toolkits.mplot3d import Axes3D \n",
    "%matplotlib inline\n",
    "\n",
    "# Only for GPU use:\n",
    "import os\n",
    "os.environ[\"CUDA_VISIBLE_DEVICES\"]=\"1\"\n",
    "\n",
    "import tensorflow as tf\n",
    "config = tf.ConfigProto()\n",
    "config.gpu_options.allow_growth = True\n",
    "sess = tf.Session(config=config)\n",
    "from keras import backend as K\n",
    "K.set_session(sess)"
   ]
  },
  {
   "cell_type": "markdown",
   "metadata": {},
   "source": [
    "### Download the Dataset:"
   ]
  },
  {
   "cell_type": "code",
   "execution_count": 2,
   "metadata": {},
   "outputs": [
    {
     "data": {
      "text/plain": [
       "('./kanji.rdp25.npz', <http.client.HTTPMessage at 0x7feaaa0cfd68>)"
      ]
     },
     "execution_count": 2,
     "metadata": {},
     "output_type": "execute_result"
    }
   ],
   "source": [
    "# Train from David Ha's Kanji dataset from Sketch-RNN: https://github.com/hardmaru/sketch-rnn-datasets\n",
    "# Other datasets in \"Sketch 3\" format should also work.\n",
    "import urllib.request\n",
    "url = 'https://github.com/hardmaru/sketch-rnn-datasets/raw/master/kanji/kanji.rdp25.npz'  \n",
    "urllib.request.urlretrieve(url, './kanji.rdp25.npz')  "
   ]
  },
  {
   "cell_type": "markdown",
   "metadata": {},
   "source": [
    "### Dataset:\n",
    "\n",
    "Includes about 11000 handwritten kanji characters divied into training, validation, and testing sets.\n",
    "\n",
    "For creative purposes, we may not need the validation or testing sets, and can just focus on the training set."
   ]
  },
  {
   "cell_type": "code",
   "execution_count": 3,
   "metadata": {},
   "outputs": [
    {
     "name": "stdout",
     "output_type": "stream",
     "text": [
      "Training kanji: 10358\n",
      "Validation kanji: 600\n",
      "Testing kanji: 500\n"
     ]
    }
   ],
   "source": [
    "with np.load('./kanji.rdp25.npz') as data:\n",
    "    train_set = data['train']\n",
    "    valid_set = data['valid']\n",
    "    test_set = data['test']\n",
    "    \n",
    "print(\"Training kanji:\", len(train_set))\n",
    "print(\"Validation kanji:\", len(valid_set))\n",
    "print(\"Testing kanji:\", len(test_set))"
   ]
  },
  {
   "cell_type": "markdown",
   "metadata": {},
   "source": [
    "### Setup an MDN RNN"
   ]
  },
  {
   "cell_type": "code",
   "execution_count": 5,
   "metadata": {},
   "outputs": [
    {
     "name": "stdout",
     "output_type": "stream",
     "text": [
      "_________________________________________________________________\n",
      "Layer (type)                 Output Shape              Param #   \n",
      "=================================================================\n",
      "inputs (InputLayer)          (None, 50, 3)             0         \n",
      "_________________________________________________________________\n",
      "lstm1 (LSTM)                 (None, 50, 256)           266240    \n",
      "_________________________________________________________________\n",
      "lstm2 (LSTM)                 (None, 50, 256)           525312    \n",
      "_________________________________________________________________\n",
      "td_mdn (TimeDistributed)     (None, 50, 70)            17990     \n",
      "=================================================================\n",
      "Total params: 809,542\n",
      "Trainable params: 809,542\n",
      "Non-trainable params: 0\n",
      "_________________________________________________________________\n"
     ]
    }
   ],
   "source": [
    "# Training Hyperparameters:\n",
    "SEQ_LEN = 50\n",
    "BATCH_SIZE = 64\n",
    "HIDDEN_UNITS = 256\n",
    "EPOCHS = 100\n",
    "SEED = 2345  # set random seed for reproducibility\n",
    "random.seed(SEED)\n",
    "np.random.seed(SEED)\n",
    "OUTPUT_DIMENSION = 3\n",
    "NUMBER_MIXTURES = 10\n",
    "\n",
    "inputs = keras.layers.Input(shape=(SEQ_LEN,OUTPUT_DIMENSION), name='inputs')\n",
    "lstm1_out = keras.layers.LSTM(HIDDEN_UNITS, name='lstm1', return_sequences=True)(inputs)\n",
    "lstm2_out = keras.layers.LSTM(HIDDEN_UNITS, name='lstm2', return_sequences=True)(lstm1_out)\n",
    "mdn_out = keras.layers.TimeDistributed(mdn.MDN(OUTPUT_DIMENSION, NUMBER_MIXTURES, name='mdn_outputs'), name='td_mdn')(lstm2_out)\n",
    "\n",
    "model = keras.models.Model(inputs=inputs, outputs=mdn_out)\n",
    "model.compile(loss=mdn.get_mixture_loss_func(OUTPUT_DIMENSION,NUMBER_MIXTURES), optimizer='adam')\n",
    "model.summary()"
   ]
  },
  {
   "cell_type": "markdown",
   "metadata": {},
   "source": [
    "## Process the Data and Train the Model\n",
    "\n",
    "- Chop up the data into slices of the correct length, generate `X` and `y` for the training process.\n",
    "- Very similar process to the previous RNN examples!\n",
    "- We end up with 330000 examples - a pretty healthy dataset."
   ]
  },
  {
   "cell_type": "code",
   "execution_count": 6,
   "metadata": {},
   "outputs": [
    {
     "name": "stdout",
     "output_type": "stream",
     "text": [
      "Number of training examples:\n",
      "X: (154279, 50, 3)\n",
      "y: (154279, 50, 3)\n"
     ]
    }
   ],
   "source": [
    "# Functions for slicing up data\n",
    "def slice_sequence_examples(sequence, num_steps):\n",
    "    xs = []\n",
    "    for i in range(len(sequence) - num_steps - 1):\n",
    "        example = sequence[i: i + num_steps]\n",
    "        xs.append(example)\n",
    "    return xs\n",
    "\n",
    "def seq_to_overlapping_format(examples):\n",
    "    \"\"\"Takes sequences of seq_len+1 and returns overlapping\n",
    "    sequences of seq_len.\"\"\"\n",
    "    xs = []\n",
    "    ys = []\n",
    "    for ex in examples:\n",
    "        xs.append(ex[:-1])\n",
    "        ys.append(ex[1:])\n",
    "    return (xs,ys)\n",
    "\n",
    "# Prepare training data as X and Y.\n",
    "slices = []\n",
    "for seq in train_set:\n",
    "    slices +=  slice_sequence_examples(seq, SEQ_LEN+1)\n",
    "X, y = seq_to_overlapping_format(slices)\n",
    "\n",
    "X = np.array(X)\n",
    "y = np.array(y)\n",
    "\n",
    "print(\"Number of training examples:\")\n",
    "print(\"X:\", X.shape)\n",
    "print(\"y:\", y.shape)"
   ]
  },
  {
   "cell_type": "code",
   "execution_count": 7,
   "metadata": {},
   "outputs": [
    {
     "name": "stdout",
     "output_type": "stream",
     "text": [
      "Number of training examples:\n",
      "X: (8928, 50, 3)\n",
      "y: (8928, 50, 3)\n"
     ]
    }
   ],
   "source": [
    "# Prepare validation data as X and Y.\n",
    "slices = []\n",
    "for seq in valid_set:\n",
    "    slices +=  slice_sequence_examples(seq, SEQ_LEN+1)\n",
    "Xval, yval = seq_to_overlapping_format(slices)\n",
    "\n",
    "Xval = np.array(Xval)\n",
    "yval = np.array(yval)\n",
    "\n",
    "print(\"Number of training examples:\")\n",
    "print(\"X:\", Xval.shape)\n",
    "print(\"y:\", yval.shape)"
   ]
  },
  {
   "cell_type": "markdown",
   "metadata": {},
   "source": [
    "## Do the training!\n",
    "\n",
    "- We're not going to train in the tutorial!\n",
    "- These settings take about 220 seconds per epoch, about 6 hours for the whole training run."
   ]
  },
  {
   "cell_type": "code",
   "execution_count": null,
   "metadata": {},
   "outputs": [
    {
     "name": "stdout",
     "output_type": "stream",
     "text": [
      "Train on 154279 samples, validate on 8928 samples\n",
      "Epoch 1/100\n",
      "154279/154279 [==============================] - 243s 2ms/step - loss: 8.7041 - val_loss: 7.5987\n",
      "\n",
      "Epoch 00001: val_loss improved from inf to 7.59866, saving model to kanji_mdnrnn-01.hdf5\n",
      "Epoch 2/100\n",
      "154279/154279 [==============================] - 240s 2ms/step - loss: 5.0588 - val_loss: 5.8436\n",
      "\n",
      "Epoch 00002: val_loss improved from 7.59866 to 5.84361, saving model to kanji_mdnrnn-02.hdf5\n",
      "Epoch 3/100\n",
      "154279/154279 [==============================] - 240s 2ms/step - loss: 3.9247 - val_loss: 2.3722\n",
      "\n",
      "Epoch 00003: val_loss improved from 5.84361 to 2.37222, saving model to kanji_mdnrnn-03.hdf5\n",
      "Epoch 4/100\n",
      "154279/154279 [==============================] - 245s 2ms/step - loss: 3.3032 - val_loss: 5.8524\n",
      "\n",
      "Epoch 00004: val_loss did not improve from 2.37222\n",
      "Epoch 5/100\n",
      "154279/154279 [==============================] - 253s 2ms/step - loss: 3.2713 - val_loss: 2.1632\n",
      "\n",
      "Epoch 00005: val_loss improved from 2.37222 to 2.16320, saving model to kanji_mdnrnn-05.hdf5\n",
      "Epoch 6/100\n",
      "154279/154279 [==============================] - 241s 2ms/step - loss: 2.4938 - val_loss: 2.2728\n",
      "\n",
      "Epoch 00006: val_loss did not improve from 2.16320\n",
      "Epoch 7/100\n",
      "154279/154279 [==============================] - 242s 2ms/step - loss: 2.8009 - val_loss: 3.3473\n",
      "\n",
      "Epoch 00007: val_loss did not improve from 2.16320\n",
      "Epoch 8/100\n",
      "154279/154279 [==============================] - 246s 2ms/step - loss: 2.3760 - val_loss: 3.8792\n",
      "\n",
      "Epoch 00008: val_loss did not improve from 2.16320\n",
      "Epoch 9/100\n",
      "154279/154279 [==============================] - 250s 2ms/step - loss: 2.4123 - val_loss: 1.4261\n",
      "\n",
      "Epoch 00009: val_loss improved from 2.16320 to 1.42606, saving model to kanji_mdnrnn-09.hdf5\n",
      "Epoch 10/100\n",
      "154279/154279 [==============================] - 249s 2ms/step - loss: 2.2340 - val_loss: 2.9334\n",
      "\n",
      "Epoch 00010: val_loss did not improve from 1.42606\n",
      "Epoch 11/100\n",
      "154279/154279 [==============================] - 239s 2ms/step - loss: 2.0319 - val_loss: 1.4490\n",
      "\n",
      "Epoch 00011: val_loss did not improve from 1.42606\n",
      "Epoch 12/100\n",
      "154279/154279 [==============================] - 240s 2ms/step - loss: 1.3484 - val_loss: 3.5331\n",
      "\n",
      "Epoch 00012: val_loss did not improve from 1.42606\n",
      "Epoch 13/100\n",
      "154279/154279 [==============================] - 246s 2ms/step - loss: 2.0649 - val_loss: 3.9906\n",
      "\n",
      "Epoch 00013: val_loss did not improve from 1.42606\n",
      "Epoch 14/100\n",
      "154279/154279 [==============================] - 252s 2ms/step - loss: 1.5840 - val_loss: 4.1660\n",
      "\n",
      "Epoch 00014: val_loss did not improve from 1.42606\n",
      "Epoch 15/100\n",
      "154279/154279 [==============================] - 268s 2ms/step - loss: 1.6192 - val_loss: 0.5229\n",
      "\n",
      "Epoch 00015: val_loss improved from 1.42606 to 0.52291, saving model to kanji_mdnrnn-15.hdf5\n",
      "Epoch 16/100\n",
      "154279/154279 [==============================] - 254s 2ms/step - loss: 1.1629 - val_loss: 4.2310\n",
      "\n",
      "Epoch 00016: val_loss did not improve from 0.52291\n",
      "Epoch 17/100\n",
      "154279/154279 [==============================] - 255s 2ms/step - loss: 1.5869 - val_loss: 1.1571\n",
      "\n",
      "Epoch 00017: val_loss did not improve from 0.52291\n",
      "Epoch 18/100\n",
      "154279/154279 [==============================] - 242s 2ms/step - loss: 1.6133 - val_loss: 2.0755\n",
      "\n",
      "Epoch 00018: val_loss did not improve from 0.52291\n",
      "Epoch 19/100\n",
      "154279/154279 [==============================] - 249s 2ms/step - loss: 0.9148 - val_loss: 2.6064\n",
      "\n",
      "Epoch 00019: val_loss did not improve from 0.52291\n",
      "Epoch 20/100\n",
      "154279/154279 [==============================] - 247s 2ms/step - loss: 1.0875 - val_loss: 3.2059\n",
      "\n",
      "Epoch 00020: val_loss did not improve from 0.52291\n",
      "Epoch 21/100\n",
      "154279/154279 [==============================] - 243s 2ms/step - loss: 1.0626 - val_loss: 2.6346\n",
      "\n",
      "Epoch 00021: val_loss did not improve from 0.52291\n",
      "Epoch 22/100\n",
      "154279/154279 [==============================] - 244s 2ms/step - loss: 1.2791 - val_loss: 0.2107\n",
      "\n",
      "Epoch 00022: val_loss improved from 0.52291 to 0.21066, saving model to kanji_mdnrnn-22.hdf5\n",
      "Epoch 23/100\n",
      "154279/154279 [==============================] - 243s 2ms/step - loss: 0.3644 - val_loss: -0.2046\n",
      "\n",
      "Epoch 00023: val_loss improved from 0.21066 to -0.20463, saving model to kanji_mdnrnn-23.hdf5\n",
      "Epoch 24/100\n",
      "154279/154279 [==============================] - 243s 2ms/step - loss: 1.1866 - val_loss: 0.6402\n",
      "\n",
      "Epoch 00024: val_loss did not improve from -0.20463\n",
      "Epoch 25/100\n",
      "154279/154279 [==============================] - 242s 2ms/step - loss: 1.8369 - val_loss: 2.2891\n",
      "\n",
      "Epoch 00025: val_loss did not improve from -0.20463\n",
      "Epoch 26/100\n",
      "154279/154279 [==============================] - 243s 2ms/step - loss: 1.3056 - val_loss: 1.5675\n",
      "\n",
      "Epoch 00026: val_loss did not improve from -0.20463\n",
      "Epoch 27/100\n",
      "154279/154279 [==============================] - 242s 2ms/step - loss: 1.5197 - val_loss: 1.7965\n",
      "\n",
      "Epoch 00027: val_loss did not improve from -0.20463\n",
      "Epoch 28/100\n",
      "154279/154279 [==============================] - 242s 2ms/step - loss: 0.8063 - val_loss: 2.7502\n",
      "\n",
      "Epoch 00028: val_loss did not improve from -0.20463\n",
      "Epoch 29/100\n",
      "154279/154279 [==============================] - 241s 2ms/step - loss: 0.7720 - val_loss: 2.8259\n",
      "\n",
      "Epoch 00029: val_loss did not improve from -0.20463\n",
      "Epoch 30/100\n",
      "154279/154279 [==============================] - 241s 2ms/step - loss: 1.1538 - val_loss: 1.8440\n",
      "\n",
      "Epoch 00030: val_loss did not improve from -0.20463\n",
      "Epoch 31/100\n",
      "154279/154279 [==============================] - 240s 2ms/step - loss: 1.4224 - val_loss: -0.1011\n",
      "\n",
      "Epoch 00031: val_loss did not improve from -0.20463\n",
      "Epoch 32/100\n",
      "154279/154279 [==============================] - 239s 2ms/step - loss: 0.7342 - val_loss: 3.8509\n",
      "\n",
      "Epoch 00032: val_loss did not improve from -0.20463\n",
      "Epoch 33/100\n",
      "154279/154279 [==============================] - 237s 2ms/step - loss: 1.2961 - val_loss: 2.6548\n",
      "\n",
      "Epoch 00033: val_loss did not improve from -0.20463\n",
      "Epoch 34/100\n",
      "154279/154279 [==============================] - 240s 2ms/step - loss: 1.3081 - val_loss: 2.6200\n",
      "\n",
      "Epoch 00034: val_loss did not improve from -0.20463\n",
      "Epoch 35/100\n",
      "154279/154279 [==============================] - 236s 2ms/step - loss: 0.8866 - val_loss: 1.3624\n",
      "\n",
      "Epoch 00035: val_loss did not improve from -0.20463\n",
      "Epoch 36/100\n",
      "154279/154279 [==============================] - 236s 2ms/step - loss: 0.4335 - val_loss: 1.8164\n",
      "\n",
      "Epoch 00036: val_loss did not improve from -0.20463\n",
      "Epoch 37/100\n",
      "154279/154279 [==============================] - 236s 2ms/step - loss: 1.2550 - val_loss: 1.5980\n",
      "\n",
      "Epoch 00037: val_loss did not improve from -0.20463\n",
      "Epoch 38/100\n",
      "154279/154279 [==============================] - 239s 2ms/step - loss: 0.0903 - val_loss: 1.2057\n",
      "\n",
      "Epoch 00038: val_loss did not improve from -0.20463\n",
      "Epoch 39/100\n",
      "154279/154279 [==============================] - 240s 2ms/step - loss: 1.0318 - val_loss: 3.0800\n",
      "\n",
      "Epoch 00039: val_loss did not improve from -0.20463\n",
      "Epoch 40/100\n",
      "154279/154279 [==============================] - 237s 2ms/step - loss: 0.6812 - val_loss: 1.6780\n",
      "\n",
      "Epoch 00040: val_loss did not improve from -0.20463\n",
      "Epoch 41/100\n",
      "154279/154279 [==============================] - 239s 2ms/step - loss: 0.9921 - val_loss: 2.6567\n",
      "\n",
      "Epoch 00041: val_loss did not improve from -0.20463\n",
      "Epoch 42/100\n",
      "154279/154279 [==============================] - 237s 2ms/step - loss: 0.7789 - val_loss: 0.6210\n",
      "\n",
      "Epoch 00042: val_loss did not improve from -0.20463\n",
      "Epoch 43/100\n",
      "154279/154279 [==============================] - 239s 2ms/step - loss: 0.9702 - val_loss: 3.5785\n",
      "\n",
      "Epoch 00043: val_loss did not improve from -0.20463\n",
      "Epoch 44/100\n",
      "154279/154279 [==============================] - 237s 2ms/step - loss: 0.8306 - val_loss: -0.4892\n",
      "\n",
      "Epoch 00044: val_loss improved from -0.20463 to -0.48917, saving model to kanji_mdnrnn-44.hdf5\n",
      "Epoch 45/100\n",
      "154279/154279 [==============================] - 237s 2ms/step - loss: 1.5678 - val_loss: 2.8499\n",
      "\n",
      "Epoch 00045: val_loss did not improve from -0.48917\n",
      "Epoch 46/100\n",
      "154279/154279 [==============================] - 237s 2ms/step - loss: 1.1115 - val_loss: 0.8270\n",
      "\n",
      "Epoch 00046: val_loss did not improve from -0.48917\n",
      "Epoch 47/100\n",
      "154279/154279 [==============================] - 238s 2ms/step - loss: 1.4528 - val_loss: 4.3459\n",
      "\n",
      "Epoch 00047: val_loss did not improve from -0.48917\n",
      "Epoch 48/100\n",
      "154279/154279 [==============================] - 237s 2ms/step - loss: 1.3192 - val_loss: -0.5206\n",
      "\n",
      "Epoch 00048: val_loss improved from -0.48917 to -0.52062, saving model to kanji_mdnrnn-48.hdf5\n",
      "Epoch 49/100\n"
     ]
    },
    {
     "name": "stdout",
     "output_type": "stream",
     "text": [
      "154279/154279 [==============================] - 236s 2ms/step - loss: 1.2457 - val_loss: 2.4447\n",
      "\n",
      "Epoch 00049: val_loss did not improve from -0.52062\n",
      "Epoch 50/100\n",
      "154279/154279 [==============================] - 237s 2ms/step - loss: 1.0052 - val_loss: 0.9708\n",
      "\n",
      "Epoch 00050: val_loss did not improve from -0.52062\n",
      "Epoch 51/100\n",
      "154279/154279 [==============================] - 238s 2ms/step - loss: 0.4609 - val_loss: 0.5001\n",
      "\n",
      "Epoch 00051: val_loss did not improve from -0.52062\n",
      "Epoch 52/100\n",
      "154279/154279 [==============================] - 237s 2ms/step - loss: 0.7965 - val_loss: 1.5023\n",
      "\n",
      "Epoch 00052: val_loss did not improve from -0.52062\n",
      "Epoch 53/100\n",
      "154279/154279 [==============================] - 239s 2ms/step - loss: 0.7049 - val_loss: 3.1625\n",
      "\n",
      "Epoch 00053: val_loss did not improve from -0.52062\n",
      "Epoch 54/100\n",
      "154279/154279 [==============================] - 237s 2ms/step - loss: 0.5464 - val_loss: 1.9972\n",
      "\n",
      "Epoch 00054: val_loss did not improve from -0.52062\n",
      "Epoch 55/100\n",
      "  2624/154279 [..............................] - ETA: 3:40 - loss: 0.5466"
     ]
    }
   ],
   "source": [
    "# Fit the model\n",
    "filepath=\"kanji_mdnrnn-{epoch:02d}.hdf5\"\n",
    "checkpoint = keras.callbacks.ModelCheckpoint(filepath, monitor='val_loss', verbose=1, save_best_only=True, mode='min')\n",
    "callbacks = [keras.callbacks.TerminateOnNaN(), checkpoint]\n",
    "\n",
    "history = model.fit(X, y, batch_size=BATCH_SIZE, epochs=EPOCHS, callbacks=callbacks, validation_data=(Xval,yval))\n",
    "model.save('kanji_mdnrnn_model_time_distributed.h5')  # creates a HDF5 file 'my_model.h5'"
   ]
  },
  {
   "cell_type": "code",
   "execution_count": 118,
   "metadata": {},
   "outputs": [
    {
     "data": {
      "image/png": "[encoded data removed]",
      "text/plain": [
       "<Figure size 432x288 with 1 Axes>"
      ]
     },
     "metadata": {
      "needs_background": "light"
     },
     "output_type": "display_data"
    }
   ],
   "source": [
    "# summarize history for loss\n",
    "plt.plot(history.history['loss'])\n",
    "plt.plot(history.history['val_loss'])\n",
    "plt.title(\"Kanji MDRNN Training\")\n",
    "plt.show()"
   ]
  },
  {
   "cell_type": "code",
   "execution_count": 50,
   "metadata": {},
   "outputs": [
    {
     "name": "stdout",
     "output_type": "stream",
     "text": [
      "context.py\t\t    kanji_mdnrnn-17--0.85.hdf5\r\n",
      "figures\t\t\t    kanji_mdnrnn-20--1.29.hdf5\r\n",
      "kanji_mdnrnn-01-0.38.hdf5   kanji_mdnrnn-22.hdf5\r\n",
      "kanji_mdnrnn-01-4.24.hdf5   kanji_mdnrnn-23.hdf5\r\n",
      "kanji_mdnrnn-01.hdf5\t    kanji_mdnrnn-44.hdf5\r\n",
      "kanji_mdnrnn-02--0.54.hdf5  kanji_mdnrnn-48.hdf5\r\n",
      "kanji_mdnrnn-02-1.27.hdf5   kanji_mdnrnn-99.hdf5\r\n",
      "kanji_mdnrnn-02.hdf5\t    kanji_mdnrnn_model.h5\r\n",
      "kanji_mdnrnn-03--0.70.hdf5  kanji_mdnrnn_model_time_distributed.h5\r\n",
      "kanji_mdnrnn-03.hdf5\t    kanji.rdp25.npz\r\n",
      "kanji_mdnrnn-05.hdf5\t    MDN-1D-sine-prediction.ipynb\r\n",
      "kanji_mdnrnn-06-0.76.hdf5   MDN-2D-spiral-prediction.ipynb\r\n",
      "kanji_mdnrnn-06--1.12.hdf5  MDN-RNN-kanji-generation-example.ipynb\r\n",
      "kanji_mdnrnn-07-0.50.hdf5   MDN-RNN-RoboJam-touch-generation.ipynb\r\n",
      "kanji_mdnrnn-09--0.72.hdf5  MDN-RNN-time-distributed-MDN-training.ipynb\r\n",
      "kanji_mdnrnn-09.hdf5\t    __pycache__\r\n",
      "kanji_mdnrnn-15.hdf5\t    sample.svg\r\n"
     ]
    }
   ],
   "source": [
    "!ls"
   ]
  },
  {
   "cell_type": "markdown",
   "metadata": {},
   "source": [
    "## Try out the model! Generate some Kanji!\n",
    "\n",
    "We need to create a decoding model with batch size 1 and sequence length 1."
   ]
  },
  {
   "cell_type": "code",
   "execution_count": 51,
   "metadata": {},
   "outputs": [
    {
     "name": "stdout",
     "output_type": "stream",
     "text": [
      "_________________________________________________________________\n",
      "Layer (type)                 Output Shape              Param #   \n",
      "=================================================================\n",
      "lstm_3 (LSTM)                (1, 1, 256)               266240    \n",
      "_________________________________________________________________\n",
      "lstm_4 (LSTM)                (1, 256)                  525312    \n",
      "_________________________________________________________________\n",
      "mdn_2 (MDN)                  (1, 70)                   17990     \n",
      "=================================================================\n",
      "Total params: 809,542\n",
      "Trainable params: 809,542\n",
      "Non-trainable params: 0\n",
      "_________________________________________________________________\n"
     ]
    }
   ],
   "source": [
    "# Decoding Model\n",
    "# Same as training model except for dimension and mixtures.\n",
    "\n",
    "decoder = keras.Sequential()\n",
    "decoder.add(keras.layers.LSTM(HIDDEN_UNITS, batch_input_shape=(1,1,OUTPUT_DIMENSION), return_sequences=True, stateful=True))\n",
    "decoder.add(keras.layers.LSTM(HIDDEN_UNITS, stateful=True))\n",
    "decoder.add(mdn.MDN(OUTPUT_DIMENSION, NUMBER_MIXTURES))\n",
    "decoder.compile(loss=mdn.get_mixture_loss_func(OUTPUT_DIMENSION,NUMBER_MIXTURES), optimizer=keras.optimizers.Adam())\n",
    "decoder.summary()\n",
    "\n",
    "#decoder.load_weights('kanji_mdnrnn_model_time_distributed.h5') # load weights independently from file\n",
    "decoder.load_weights('kanji_mdnrnn-99.hdf5')"
   ]
  },
  {
   "cell_type": "markdown",
   "metadata": {},
   "source": [
    "## Generating drawings\n",
    "\n",
    "- First need some helper functions to view the output."
   ]
  },
  {
   "cell_type": "code",
   "execution_count": 15,
   "metadata": {},
   "outputs": [],
   "source": [
    "import pandas as pd\n",
    "import matplotlib.pyplot as plt\n",
    "%matplotlib inline\n",
    "\n",
    "def zero_start_position():\n",
    "    \"\"\"A zeroed out start position with pen down\"\"\"\n",
    "    out = np.zeros((1, 1, 3), dtype=np.float32)\n",
    "    out[0, 0, 2] = 1 # set pen down.\n",
    "    return out\n",
    "\n",
    "def generate_sketch(model, start_pos, num_points=100):\n",
    "     return None\n",
    "\n",
    "def cutoff_stroke(x):\n",
    "    return np.greater(x,0.5) * 1.0\n",
    "\n",
    "def plot_sketch(sketch_array):\n",
    "    \"\"\"Plot a sketch quickly to see what it looks like.\"\"\"\n",
    "    sketch_df = pd.DataFrame({'x':sketch_array.T[0],'y':sketch_array.T[1],'z':sketch_array.T[2]})\n",
    "    sketch_df.x = sketch_df.x.cumsum()\n",
    "    sketch_df.y = -1 * sketch_df.y.cumsum()\n",
    "    # Do the plot\n",
    "    fig = plt.figure(figsize=(8, 8))\n",
    "    ax1 = fig.add_subplot(111)\n",
    "    #ax1.scatter(sketch_df.x,sketch_df.y,marker='o', c='r', alpha=1.0)\n",
    "    # Need to do something with sketch_df.z\n",
    "    ax1.plot(sketch_df.x,sketch_df.y,'r-')\n",
    "    plt.show()"
   ]
  },
  {
   "cell_type": "markdown",
   "metadata": {},
   "source": [
    "## SVG Drawing Function\n",
    "\n",
    "Here's Hardmaru's Drawing Functions from _write-rnn-tensorflow_. Big hat tip to Hardmaru for this!\n",
    "\n",
    "Here's the source: https://github.com/hardmaru/write-rnn-tensorflow/blob/master/utils.py\n"
   ]
  },
  {
   "cell_type": "code",
   "execution_count": 67,
   "metadata": {},
   "outputs": [],
   "source": [
    "# Hardmaru's Drawing Functions from write-rnn-tensorflow\n",
    "# Big hat tip\n",
    "# Here's the source:\n",
    "# https://github.com/hardmaru/write-rnn-tensorflow/blob/master/utils.py\n",
    "\n",
    "import svgwrite\n",
    "from IPython.display import SVG, display\n",
    "\n",
    "def get_bounds(data, factor):\n",
    "    min_x = 0\n",
    "    max_x = 0\n",
    "    min_y = 0\n",
    "    max_y = 0\n",
    "\n",
    "    abs_x = 0\n",
    "    abs_y = 0\n",
    "    for i in range(len(data)):\n",
    "        x = float(data[i, 0]) / factor\n",
    "        y = float(data[i, 1]) / factor\n",
    "        abs_x += x\n",
    "        abs_y += y\n",
    "        min_x = min(min_x, abs_x)\n",
    "        min_y = min(min_y, abs_y)\n",
    "        max_x = max(max_x, abs_x)\n",
    "        max_y = max(max_y, abs_y)\n",
    "\n",
    "    return (min_x, max_x, min_y, max_y)\n",
    "\n",
    "def draw_strokes(data, factor=1, svg_filename='sample.svg'):\n",
    "    min_x, max_x, min_y, max_y = get_bounds(data, factor)\n",
    "    dims = (50 + max_x - min_x, 50 + max_y - min_y)\n",
    "\n",
    "    dwg = svgwrite.Drawing(svg_filename, size=dims)\n",
    "    dwg.add(dwg.rect(insert=(0, 0), size=dims, fill='white'))\n",
    "\n",
    "    lift_pen = 1\n",
    "\n",
    "    abs_x = 25 - min_x\n",
    "    abs_y = 25 - min_y\n",
    "    p = \"M%s,%s \" % (abs_x, abs_y)\n",
    "\n",
    "    command = \"m\"\n",
    "\n",
    "    for i in range(len(data)):\n",
    "        if (lift_pen == 1):\n",
    "            command = \"m\"\n",
    "        elif (command != \"l\"):\n",
    "            command = \"l\"\n",
    "        else:\n",
    "            command = \"\"\n",
    "        x = float(data[i, 0]) / factor\n",
    "        y = float(data[i, 1]) / factor\n",
    "        lift_pen = data[i, 2]\n",
    "        p += command + str(x) + \",\" + str(y) + \" \"\n",
    "\n",
    "    the_color = \"black\"\n",
    "    stroke_width = 2\n",
    "\n",
    "    dwg.add(dwg.path(p).stroke(the_color, stroke_width).fill(\"none\"))\n",
    "\n",
    "    dwg.save()\n",
    "    display(SVG(dwg.tostring()))"
   ]
  },
  {
   "cell_type": "code",
   "execution_count": 117,
   "metadata": {
    "scrolled": true
   },
   "outputs": [
    {
     "data": {
      "image/svg+xml": [
       "<svg baseProfile=\"full\" height=\"212.65919198602123\" version=\"1.1\" width=\"208.40535943698944\" xmlns=\"http://www.w3.org/2000/svg\" xmlns:ev=\"http://www.w3.org/2001/xml-events\" xmlns:xlink=\"http://www.w3.org/1999/xlink\"><defs/><rect fill=\"white\" height=\"212.65919198602123\" width=\"208.40535943698944\" x=\"0\" y=\"0\"/><path d=\"M67.76557436177585,69.74456873921372 m0.0,0.0 m-24.149363412007425,-24.55042606759774 l5.223319483209321,4.885987393370588 6.409252069214018,4.062877398123347 m-5.472529545600549,-18.30193226652039 l-2.3809407194471737,6.7481751156002705 -6.511438070908378,11.565360829585355 l-8.110289119886138,9.370389391812013 -7.773585046349518,5.750032150567005 m25.363753201789915,-12.537231899259005 l0.3669074562288095,2.184359131173496 0.7350452985131857,2.4278247258996766 l0.41537088993845794,34.811090809207826 m42.36314944346291,-71.16107545117616 l-0.8604744679017609,2.2958935584262328 -3.599639715246779,8.722288246901858 l-4.670735725444518,9.386717997543835 -2.673946521114875,8.058973560408546 l-2.932427551160565,13.515818902425286 -5.903497850165246,12.038132459463778 l-5.341505111742796,9.631469560656445 -2.990669633511111,9.446209658629323 m23.333261641222965,-53.47419598501418 l3.7284474737192146,1.1254819803561293 12.71875396818591,1.3707913697513119 l24.042777630578428,2.7592679049609012 2.7843531205723373,-0.005226914555709339 l1.7627028824405606,-0.07521780921138554 m-66.09178090182502,33.307005403443405 l6.279881520219435,2.246323955525151 1.5291661267924854,0.7910603082869384 l20.448726364156784,-3.485600743843672 47.68765030989835,-1.2978612836431473 m-2.0825329570789872,-19.58653045169316 l3.834121355178013,6.344129126839601 1.9238134196674392,31.110504860910503 l1.5618904718482538,27.553584607190448 1.9576631036821537,20.398068184600117 l3.8490463355619706,13.584397983265209 5.0255202586033745,14.2243230259179 l7.721173610244275,12.67338251847957 m-40.24995136645028,-113.81198979519074 l1.602007618666089,4.414650004712199 -0.4344948113248418,-0.7976375798046718 l18.406833381691424,7.915699824236432 m-0.4162523602600654,-2.833767152380484 l-0.05723913000251066,10.142961606797236 -3.2153389640262806,31.209008131001905 m-7.497845813048933,-77.42297120363259 l-0.9756701460034458,5.526569597735225 -6.504734676943438,11.75107984719246 m-24.975084309691816,6.152688144191668 l4.904565949332222,1.8826618095716041 9.062487282331318,-0.2996715914038599 l49.947407391221496,-10.594053711969966 6.225041915467668,1.605693944056224 l-0.549082737966867,6.319933834362029 -6.434483326064342,22.446675764490948 m-61.20109071692606,-15.55366882293724 l21.453450140067076,5.076620618966469 50.86828340967549,1.6986884625194612 l6.160585259931925,4.846363351578987 m-109.42673875962281,30.12835219936882 l8.368389713475711,1.6300535087116654 65.91349002679141,-7.819886593567888 l31.138326233211416,-2.7952161558428346 m-59.13885658661205,-34.80287450203745 l3.302572621494133,-0.2724610000562362 1.11970091973155,2.753355194311691 l1.9075400596591288,57.78747561587302 m-28.79956477602687,-16.277388474075007 l2.349694974733576,3.3108458690165006 1.1060140684827857,0.9270368336729082 l3.3544703654377126,7.802300719776747 0.04461814859794888,16.130194207715927 m-11.236061858808311,-13.08585234835832 l8.483950376951318,-0.22664253383048805 32.3047788117526,-7.254697218784052 l12.266516099152543,2.0919128514641345 m-76.69955653411293,27.670212515061134 l12.603560824256483,-1.5651039295205043 52.14700256365158,-6.8160647469123345 l9.76462157016661,-1.9201596181552787 m-42.82335984928446,3.0227168813048033 l0.7264619547380213,0.11238857352097664 -0.9007572756701887,5.340106671176892 l-3.448900854856216,11.60628330559731 -5.000181438501173,5.7136363266055765 l-7.909894475871734,1.2273457385674273 -4.025513716062836,0.6824520423740913 l-1.2447131856602187,0.14474966866800587 -1.718638667566438,1.987938833002595 m1.5144647823821096,-9.049007199959139 l3.090243649170994,7.064549122354346 m-42.753650774717556,10.307819546771352 l-1.985527817827652,-2.429242421646659 0.6306627967216232,-0.2420696367388313 l12.498282886264395,-5.0736129700940875 19.112619443299838,-19.019655617440648 m16.75139695618067,-22.650588852981823 l1.0184713341381118,1.5580547500990944 \" fill=\"none\" stroke=\"black\" stroke-width=\"2\"/></svg>"
      ],
      "text/plain": [
       "<IPython.core.display.SVG object>"
      ]
     },
     "metadata": {},
     "output_type": "display_data"
    }
   ],
   "source": [
    "# Predict a character and plot the result.\n",
    "temperature = 2 # seems to work well with rather high temperature (2.5)\n",
    "\n",
    "p = zero_start_position()\n",
    "sketch = [p.reshape(3,)]\n",
    "\n",
    "for i in range(100):\n",
    "    params = decoder.predict(p.reshape(1,1,3))\n",
    "    p = mdn.sample_from_output(params[0], OUTPUT_DIMENSION, NUMBER_MIXTURES, temp=temperature)\n",
    "    sketch.append(p.reshape((3,)))\n",
    "\n",
    "sketch = np.array(sketch)\n",
    "decoder.reset_states()\n",
    "\n",
    "sketch.T[2] = cutoff_stroke(sketch.T[2])\n",
    "draw_strokes(sketch, factor=0.5)\n",
    "#plot_sketch(sketch)"
   ]
  }
 ],
 "metadata": {
  "kernelspec": {
   "display_name": "Python 3",
   "language": "python",
   "name": "python3"
  },
  "language_info": {
   "codemirror_mode": {
    "name": "ipython",
    "version": 3
   },
   "file_extension": ".py",
   "mimetype": "text/x-python",
   "name": "python",
   "nbconvert_exporter": "python",
   "pygments_lexer": "ipython3",
   "version": "3.6.6"
  }
 },
 "nbformat": 4,
 "nbformat_minor": 2
}
